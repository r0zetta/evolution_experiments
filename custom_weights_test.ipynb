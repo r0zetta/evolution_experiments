{
 "cells": [
  {
   "cell_type": "code",
   "execution_count": 3,
   "metadata": {},
   "outputs": [
    {
     "name": "stdout",
     "output_type": "stream",
     "text": [
      "14656\n",
      "torch.Size([64, 225])\n",
      "torch.Size([4, 64])\n",
      "tensor([[-0.5343, -0.7422,  0.5799, -0.0632,  0.1498, -0.6357,  0.8731,  0.8148,\n",
      "         -0.0897,  0.8696, -0.0794,  0.1006, -0.3381,  0.9425,  0.1498,  0.7688,\n",
      "         -0.4487, -0.7030, -0.5313,  0.5896,  0.1329, -0.5905,  0.8258,  0.9404,\n",
      "         -0.3725,  0.2563,  0.9022, -0.2109,  0.7071, -0.6291, -0.0394, -0.1026,\n",
      "         -0.8833,  0.2231,  0.2893, -0.1273, -0.7182, -0.9382,  0.6018, -0.9544,\n",
      "         -0.7879, -0.4202, -0.0299,  0.4670, -0.4044, -0.5922,  0.8217,  0.1444,\n",
      "          0.0499,  0.2688, -0.4907, -0.5129, -0.7002, -0.1058, -0.3866, -0.4436,\n",
      "          0.1100, -0.9839,  0.3694, -0.4064,  0.3608, -0.1271,  0.1773,  0.4557],\n",
      "        [-0.3041, -0.3701,  0.6898, -0.1791, -0.8901,  0.5433,  0.1885, -0.1323,\n",
      "         -0.3034,  0.0759, -0.2723, -0.2963, -0.0625, -0.1790, -0.4923,  0.3844,\n",
      "         -0.7825, -0.8056,  0.8512, -0.3556,  0.4690, -0.3749, -0.5814,  0.7010,\n",
      "          0.1415, -0.9320,  0.0166, -0.4150,  0.9745,  0.1412,  0.2970, -0.7052,\n",
      "          0.1638, -0.0696,  0.9278,  0.6405,  0.2892, -0.1683,  0.5336, -0.3217,\n",
      "          0.4966,  0.4214, -0.6520, -0.4617,  0.1011,  0.3927, -0.1222, -0.4299,\n",
      "         -0.8358,  0.9824, -0.8301, -0.1606, -0.4473,  0.9061, -0.4657,  0.2071,\n",
      "          0.1368,  0.1160,  0.5937, -0.6265, -0.2025, -0.9046,  0.8679, -0.6917],\n",
      "        [ 0.6170,  0.1181,  0.8652, -0.9943,  0.8916,  0.4599, -0.2670, -0.3573,\n",
      "         -0.0566,  0.8473, -0.3098, -0.5094,  0.5764,  0.2156, -0.3148,  0.0431,\n",
      "         -0.8463, -0.9068, -0.8122, -0.6716,  0.0668, -0.2792,  0.6546,  0.9140,\n",
      "          0.5853, -0.2765, -0.2995,  0.9449,  0.4983, -0.5289, -0.1084,  0.4829,\n",
      "          0.8722, -0.4326,  0.3947,  0.1971, -0.2777, -0.5416,  0.9280,  0.7111,\n",
      "          0.4761, -0.7833,  0.1081,  0.5820,  0.5550,  0.8335,  0.0057,  0.4597,\n",
      "          0.9438,  0.3867, -0.6461, -0.1472, -0.8365, -0.2060, -0.3239,  0.2943,\n",
      "          0.4549, -0.3511,  0.0087, -0.6748,  0.9706,  0.0180,  0.5770, -0.3155],\n",
      "        [-0.6407, -0.4244,  0.6298, -0.3155,  0.4878, -0.7522,  0.5158,  0.1840,\n",
      "          0.7041, -0.3966, -0.0411,  0.9829,  0.6139,  0.0524,  0.2110, -0.6124,\n",
      "          0.8518,  0.3205, -0.2343,  0.9060, -0.6544, -0.7872, -0.7033, -0.7550,\n",
      "         -0.7049, -0.9850,  0.7161,  0.1851,  0.3176,  0.4814,  0.1095, -0.2432,\n",
      "         -0.3429, -0.0944, -0.8577,  0.9807, -0.9245, -0.9797, -0.3071,  0.5162,\n",
      "          0.4055, -0.2532, -0.3799,  0.9708, -0.6230,  0.2990, -0.2786,  0.6906,\n",
      "          0.7204, -0.3945,  0.9032,  0.4032, -0.9454, -0.0383,  0.9060,  0.0343,\n",
      "         -0.5075, -0.3250,  0.3638, -0.0645, -0.9833, -0.7141,  0.6625, -0.7056]])\n",
      "Net(\n",
      "  (fc1): Linear(in_features=225, out_features=64, bias=False)\n",
      "  (fc2): Linear(in_features=64, out_features=4, bias=False)\n",
      ")\n"
     ]
    }
   ],
   "source": [
    "import torch\n",
    "import torch.nn as nn\n",
    "import numpy as np\n",
    "\n",
    "class Net(nn.Module):\n",
    "    def __init__(self, state_size, action_size, hidden_size, fc1_weights, fc2_weights):\n",
    "        super(Net, self).__init__()\n",
    "        self.state_size = state_size\n",
    "        self.action_size = action_size\n",
    "        self.hidden_size = hidden_size\n",
    "        self.fc1 = nn.Linear(self.state_size, self.hidden_size, bias=False)\n",
    "        self.fc2 = nn.Linear(self.hidden_size, self.action_size, bias=False)\n",
    "        print(self.fc1.weight.data.shape)\n",
    "        print(self.fc2.weight.data.shape)\n",
    "        self.fc1.weight.data =  fc1_weights\n",
    "        self.fc2.weight.data =  fc2_weights\n",
    "        print(self.fc2.weight.data)\n",
    "\n",
    "    def forward(self, x):\n",
    "        x = F.relu(self.fc1(x))\n",
    "        x = F.softmax(F.relu(self.fc2(x)))\n",
    "        return x\n",
    "\n",
    "state_size = 15*15\n",
    "action_size = 4\n",
    "hidden_size = 64\n",
    "genome_size = (state_size*hidden_size) + (action_size*hidden_size)\n",
    "print(genome_size)\n",
    "genome = np.random.uniform(-1, 1, genome_size)\n",
    "fc1_weights = torch.Tensor(np.reshape(genome[:state_size*hidden_size], (hidden_size, state_size)))\n",
    "fc2_weights = torch.Tensor(np.reshape(genome[state_size*hidden_size:], (action_size, hidden_size)))\n",
    "net = Net(state_size, action_size, hidden_size, fc1_weights, fc2_weights)\n",
    "print(net)"
   ]
  },
  {
   "cell_type": "code",
   "execution_count": 12,
   "metadata": {},
   "outputs": [
    {
     "name": "stdout",
     "output_type": "stream",
     "text": [
      "1000\n"
     ]
    }
   ],
   "source": [
    "import numpy as np\n",
    "import pickle\n",
    "\n",
    "def save_genomes(genome_pool):\n",
    "    with open(\"genome_pool.pkl\", \"wb\") as f:\n",
    "        f.write(pickle.dumps(genome_pool))\n",
    "\n",
    "def load_genomes():\n",
    "    n = []\n",
    "    with open(\"genome_pool.pkl\", \"rb\") as f:\n",
    "        n = pickle.load(f)\n",
    "    return n\n",
    "\n",
    "genome_pool = []\n",
    "pool_size = 1000\n",
    "\n",
    "for _ in range(pool_size):\n",
    "    genome = np.random.uniform(-1, 1, genome_size)\n",
    "    fitness = None\n",
    "    genome_pool.append([genome, fitness])\n",
    "\n",
    "save_genomes(genome_pool)\n",
    "\n",
    "new_genome_pool = load_genomes()\n",
    "print(len(new_genome_pool))"
   ]
  },
  {
   "cell_type": "code",
   "execution_count": 10,
   "metadata": {},
   "outputs": [
    {
     "name": "stdout",
     "output_type": "stream",
     "text": [
      "1000\n"
     ]
    }
   ],
   "source": []
  },
  {
   "cell_type": "code",
   "execution_count": null,
   "metadata": {},
   "outputs": [],
   "source": []
  }
 ],
 "metadata": {
  "kernelspec": {
   "display_name": "Python 3",
   "language": "python",
   "name": "python3"
  },
  "language_info": {
   "codemirror_mode": {
    "name": "ipython",
    "version": 3
   },
   "file_extension": ".py",
   "mimetype": "text/x-python",
   "name": "python",
   "nbconvert_exporter": "python",
   "pygments_lexer": "ipython3",
   "version": "3.8.3"
  }
 },
 "nbformat": 4,
 "nbformat_minor": 4
}
