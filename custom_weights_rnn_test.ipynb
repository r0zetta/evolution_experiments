{
 "cells": [
  {
   "cell_type": "code",
   "execution_count": 28,
   "metadata": {},
   "outputs": [
    {
     "name": "stdout",
     "output_type": "stream",
     "text": [
      "Net(\n",
      "  (lstm): LSTM(32, 32, bias=False)\n",
      "  (head): Linear(in_features=32, out_features=5, bias=False)\n",
      ")\n"
     ]
    }
   ],
   "source": [
    "import torch\n",
    "import torch.nn as nn\n",
    "import numpy as np\n",
    "\n",
    "class Net(nn.Module):\n",
    "    def __init__(self,  state_size,  action_size, frames, hidden, layers,\n",
    "                 lstm1_w, lstm2_w, fc_w):\n",
    "        super(Net, self).__init__()\n",
    "        self.state_size = state_size\n",
    "        self.action_size = action_size\n",
    "        self.frames = frames\n",
    "        self.hidden = hidden\n",
    "        self.layers = layers\n",
    "        self.lstm = nn.LSTM(self.state_size,\n",
    "                            self.hidden,\n",
    "                            self.layers,\n",
    "                            bidirectional=False,\n",
    "                            bias=False)\n",
    "\n",
    "        self.head = nn.Linear(self.hidden, self.action_size, bias=False)\n",
    "        self.lstm.weight_ih_l0.data = lstm1_w\n",
    "        self.lstm.weight_hh_l0.data = lstm2_w\n",
    "        self.head.weight.data = fc_w\n",
    "\n",
    "    def forward(self, state, h):\n",
    "        x, h = self.lstm(state, h)\n",
    "        x = x[:, -1]\n",
    "        x = F.softmax(self.head(x), dim=-1), h\n",
    "        return x\n",
    "\n",
    "state_size = 32\n",
    "action_size = 5\n",
    "hidden_size = 32\n",
    "layers = 1\n",
    "frames = 4\n",
    "fs = state_size*frames\n",
    "ls = (fs * hidden_size)\n",
    "fcs = action_size * hidden_size\n",
    "genome_size = ls*2 + fcs\n",
    "genome = np.random.uniform(-1, 1, genome_size)\n",
    "lstm1_w = torch.Tensor(np.reshape(genome[:ls], (fs, state_size)))\n",
    "lstm2_w = torch.Tensor(np.reshape(genome[ls:ls*2], (fs, state_size)))\n",
    "fc_w = torch.Tensor(np.reshape(genome[ls*2:], (action_size, hidden_size)))\n",
    "net = Net(state_size, action_size, frames, hidden_size, layers, lstm1_w, lstm2_w, fc_w)\n",
    "print(net)"
   ]
  },
  {
   "cell_type": "code",
   "execution_count": 12,
   "metadata": {},
   "outputs": [
    {
     "name": "stdout",
     "output_type": "stream",
     "text": [
      "1000\n"
     ]
    }
   ],
   "source": [
    "import numpy as np\n",
    "import pickle\n",
    "\n",
    "def save_genomes(genome_pool):\n",
    "    with open(\"genome_pool.pkl\", \"wb\") as f:\n",
    "        f.write(pickle.dumps(genome_pool))\n",
    "\n",
    "def load_genomes():\n",
    "    n = []\n",
    "    with open(\"genome_pool.pkl\", \"rb\") as f:\n",
    "        n = pickle.load(f)\n",
    "    return n\n",
    "\n",
    "genome_pool = []\n",
    "pool_size = 1000\n",
    "\n",
    "for _ in range(pool_size):\n",
    "    genome = np.random.uniform(-1, 1, genome_size)\n",
    "    fitness = None\n",
    "    genome_pool.append([genome, fitness])\n",
    "\n",
    "save_genomes(genome_pool)\n",
    "\n",
    "new_genome_pool = load_genomes()\n",
    "print(len(new_genome_pool))"
   ]
  },
  {
   "cell_type": "code",
   "execution_count": 10,
   "metadata": {},
   "outputs": [
    {
     "name": "stdout",
     "output_type": "stream",
     "text": [
      "1000\n"
     ]
    }
   ],
   "source": []
  },
  {
   "cell_type": "code",
   "execution_count": null,
   "metadata": {},
   "outputs": [],
   "source": []
  }
 ],
 "metadata": {
  "kernelspec": {
   "display_name": "Python 3",
   "language": "python",
   "name": "python3"
  },
  "language_info": {
   "codemirror_mode": {
    "name": "ipython",
    "version": 3
   },
   "file_extension": ".py",
   "mimetype": "text/x-python",
   "name": "python",
   "nbconvert_exporter": "python",
   "pygments_lexer": "ipython3",
   "version": "3.8.3"
  }
 },
 "nbformat": 4,
 "nbformat_minor": 4
}
